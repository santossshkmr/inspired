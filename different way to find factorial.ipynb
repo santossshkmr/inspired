{
 "cells": [
  {
   "cell_type": "code",
   "execution_count": 38,
   "metadata": {},
   "outputs": [
    {
     "name": "stdout",
     "output_type": "stream",
     "text": [
      "120\n"
     ]
    }
   ],
   "source": [
    "# factorial using math module\n",
    "import math\n",
    "\n",
    "def factorial(n):\n",
    "    return(math.factorial(n))\n",
    "\n",
    "\n",
    "\n",
    "n=5\n",
    "print(factorial(5))"
   ]
  },
  {
   "cell_type": "code",
   "execution_count": 39,
   "metadata": {},
   "outputs": [
    {
     "name": "stdout",
     "output_type": "stream",
     "text": [
      "120\n"
     ]
    }
   ],
   "source": [
    "#recursive way\n",
    "def factorial(n):\n",
    "    return 1 if (n==0 or n==1) else n*factorial(n-1)\n",
    "n=5\n",
    "print(factorial(n))\n",
    "\n"
   ]
  },
  {
   "cell_type": "code",
   "execution_count": 40,
   "metadata": {},
   "outputs": [
    {
     "name": "stdout",
     "output_type": "stream",
     "text": [
      "120\n"
     ]
    }
   ],
   "source": [
    "#iterative way\n",
    "def factorial(n):\n",
    "    if (n<0):\n",
    "        print(\"enter valid input\")\n",
    "        return 0\n",
    "    elif (n==0 or n==1):\n",
    "        return 1\n",
    "    else:\n",
    "        i=1\n",
    "        for n in range(n,i,-1):\n",
    "            i= n*i            \n",
    "        return i\n",
    "n=5\n",
    "print(factorial(n))"
   ]
  },
  {
   "cell_type": "code",
   "execution_count": null,
   "metadata": {},
   "outputs": [],
   "source": []
  },
  {
   "cell_type": "code",
   "execution_count": null,
   "metadata": {},
   "outputs": [],
   "source": []
  }
 ],
 "metadata": {
  "kernelspec": {
   "display_name": "Python 3",
   "language": "python",
   "name": "python3"
  },
  "language_info": {
   "codemirror_mode": {
    "name": "ipython",
    "version": 3
   },
   "file_extension": ".py",
   "mimetype": "text/x-python",
   "name": "python",
   "nbconvert_exporter": "python",
   "pygments_lexer": "ipython3",
   "version": "3.7.3"
  }
 },
 "nbformat": 4,
 "nbformat_minor": 2
}
