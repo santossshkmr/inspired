{
 "cells": [
  {
   "cell_type": "code",
   "execution_count": 9,
   "metadata": {},
   "outputs": [
    {
     "name": "stdout",
     "output_type": "stream",
     "text": [
      "enter a number 123\n",
      "False\n",
      "enter a number 153\n",
      "True\n",
      "enter a number 1634\n",
      "True\n",
      "enter a number 5\n",
      "True\n",
      "enter a number 76\n",
      "False\n"
     ]
    }
   ],
   "source": [
    "# armstrong number\n",
    "#for example 153= 1^3 + 5^3 + 3^3\n",
    "#1634= 1^4 + 6^4 + 3^4 + 4^4\n",
    "def order(n):\n",
    "    p=0\n",
    "    while(n !=0):\n",
    "        p+=1\n",
    "        n//=10\n",
    "    return p \n",
    "def power(x,y):\n",
    "    if(y==0):\n",
    "        return 1\n",
    "    elif (y%2==0):\n",
    "        return power(x,y//2)*power(x,y//2)\n",
    "    else:\n",
    "        return x*power(x,y//2)*power(x,y//2)\n",
    "    \n",
    "def armstrong(n):\n",
    "    \n",
    "    x= order(n)\n",
    "    temp = n\n",
    "    sum1 = 0\n",
    "      \n",
    "    while (temp != 0):\n",
    "        r = temp % 10\n",
    "        sum1 = sum1 + power(r, x)\n",
    "        temp = temp // 10\n",
    "  \n",
    "\n",
    "    return (sum1 == n)\n",
    "\n",
    "i=0\n",
    "while(i<5):\n",
    "    num=int(input(\"enter a number \"))\n",
    "    print(armstrong(num))\n",
    "    i=i+1\n",
    "\n",
    "    \n",
    "    \n",
    "    "
   ]
  },
  {
   "cell_type": "code",
   "execution_count": null,
   "metadata": {},
   "outputs": [],
   "source": []
  }
 ],
 "metadata": {
  "kernelspec": {
   "display_name": "Python 3",
   "language": "python",
   "name": "python3"
  },
  "language_info": {
   "codemirror_mode": {
    "name": "ipython",
    "version": 3
   },
   "file_extension": ".py",
   "mimetype": "text/x-python",
   "name": "python",
   "nbconvert_exporter": "python",
   "pygments_lexer": "ipython3",
   "version": "3.7.3"
  }
 },
 "nbformat": 4,
 "nbformat_minor": 2
}
