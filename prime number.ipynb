{
 "cells": [
  {
   "cell_type": "code",
   "execution_count": 21,
   "metadata": {},
   "outputs": [
    {
     "name": "stdout",
     "output_type": "stream",
     "text": [
      "enter starting poinnt of intervals -80\n",
      "enter ending point-90\n",
      "None\n",
      "pls enter both number as positive \n"
     ]
    }
   ],
   "source": [
    "#prime number between intervals\n",
    "def prime(x,y):\n",
    "    \n",
    "    for i in range(x,y+1):\n",
    "        if i>1:\n",
    "            \n",
    "            for j in range(2,i):\n",
    "                if(i%j==0):\n",
    "                    break\n",
    "            else:\n",
    "                print(i)           \n",
    "x=int(input(\"enter starting poinnt of intervals \"))\n",
    "y=int(input(\"enter ending point\"))\n",
    "if(x>y):\n",
    "    print(prime(x,y))\n",
    "if(x<0 and y<0):\n",
    "    print(\"pls enter both number as positive \")\n",
    "if(y>x):\n",
    "    \n",
    "    print(\"pls enter in right order \")\n"
   ]
  },
  {
   "cell_type": "code",
   "execution_count": 33,
   "metadata": {},
   "outputs": [
    {
     "name": "stdout",
     "output_type": "stream",
     "text": [
      "True\n"
     ]
    }
   ],
   "source": [
    "#To check wheather a number is prime or not\n",
    "def isprime(x):\n",
    "    for i in range(2,int((x/2)+1)):\n",
    "        if(x%i==0):\n",
    "            return False\n",
    "            break\n",
    "    else:\n",
    "        return True\n",
    "x = 31   \n",
    "print(isprime(x))"
   ]
  },
  {
   "cell_type": "code",
   "execution_count": null,
   "metadata": {},
   "outputs": [],
   "source": []
  }
 ],
 "metadata": {
  "kernelspec": {
   "display_name": "Python 3",
   "language": "python",
   "name": "python3"
  },
  "language_info": {
   "codemirror_mode": {
    "name": "ipython",
    "version": 3
   },
   "file_extension": ".py",
   "mimetype": "text/x-python",
   "name": "python",
   "nbconvert_exporter": "python",
   "pygments_lexer": "ipython3",
   "version": "3.7.3"
  }
 },
 "nbformat": 4,
 "nbformat_minor": 2
}
