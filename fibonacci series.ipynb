{
 "cells": [
  {
   "cell_type": "code",
   "execution_count": 4,
   "metadata": {},
   "outputs": [
    {
     "name": "stdout",
     "output_type": "stream",
     "text": [
      "enter the nth value for which you need a fibonacci number9\n"
     ]
    },
    {
     "data": {
      "text/plain": [
       "21"
      ]
     },
     "execution_count": 4,
     "metadata": {},
     "output_type": "execute_result"
    }
   ],
   "source": [
    "#fibonacci number\n",
    "def nthfib(n):\n",
    "    if (n <= 0):\n",
    "        print(\"enter positive value\")\n",
    "    if (n == 1):\n",
    "        return 0\n",
    "    if(n == 2):\n",
    "        return 1\n",
    "    else: \n",
    "        return nthfib(n-1)+ nthfib(n-2)\n",
    "\n",
    "num = int(input(\"enter the nth value for which you need a fibonacci number\"))\n",
    "nthfib(num)\n",
    "    "
   ]
  },
  {
   "cell_type": "code",
   "execution_count": 17,
   "metadata": {},
   "outputs": [
    {
     "name": "stdout",
     "output_type": "stream",
     "text": [
      "fib array at every stage [0, 1, 1]\n",
      "fib array at every stage [0, 1, 1, 2]\n",
      "fib array at every stage [0, 1, 1, 2, 3]\n",
      "fib array at every stage [0, 1, 1, 2, 3, 5]\n",
      "fib array at every stage [0, 1, 1, 2, 3, 5, 8]\n",
      "fib array at every stage [0, 1, 1, 2, 3, 5, 8, 13]\n",
      "fib array at every stage [0, 1, 1, 2, 3, 5, 8, 13, 21]\n",
      "21\n"
     ]
    }
   ],
   "source": [
    "FibArray = [0, 1]\n",
    " \n",
    "def fibonacci(n):\n",
    "    if n<0:\n",
    "        print(\"Incorrect input\")\n",
    "    elif n<= len(FibArray):\n",
    "        return FibArray[n-1]\n",
    "    else:\n",
    "        temp_fib = fibonacci(n-1)+fibonacci(n-2)\n",
    "        FibArray.append(temp_fib)\n",
    "        print(\"fib array at every stage\",FibArray)\n",
    "        return temp_fib   \n",
    "    \n",
    "# Driver Program\n",
    " \n",
    "print(fibonacci(9))\n",
    " "
   ]
  },
  {
   "cell_type": "code",
   "execution_count": null,
   "metadata": {},
   "outputs": [],
   "source": []
  }
 ],
 "metadata": {
  "kernelspec": {
   "display_name": "Python 3",
   "language": "python",
   "name": "python3"
  },
  "language_info": {
   "codemirror_mode": {
    "name": "ipython",
    "version": 3
   },
   "file_extension": ".py",
   "mimetype": "text/x-python",
   "name": "python",
   "nbconvert_exporter": "python",
   "pygments_lexer": "ipython3",
   "version": "3.7.3"
  }
 },
 "nbformat": 4,
 "nbformat_minor": 2
}
